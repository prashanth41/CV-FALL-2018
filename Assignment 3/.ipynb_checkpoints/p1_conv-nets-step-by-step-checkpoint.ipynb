{
 "cells": [
  {
   "cell_type": "markdown",
   "metadata": {},
   "source": [
    "# Step-by-step walkthrough of building a convolutional network (CNN)\n",
    "\n",
    "In this assignment, we will implement:\n",
    " - convolutional (`conv`) and pooling (`pool`) layers via `numpy` \n",
    " -  forward propogation and backward propogation.\n",
    "\n",
    "**Notation**:\n",
    "- Superscript $[l]$ denotes $l^{th}$ layer. \n",
    "    - Example: $a^{[4]}$ means the $4^{th}$ layer activation. $W^{[5]}$ and $b^{[5]}$ are the parameters of the $5^{th}$ layer.\n",
    "\n",
    "\n",
    "- Superscript $(i)$ denotes the index of a data example: $i^{th}$ example. \n",
    "    - Example: $x^{(i)}$ is the $i^{th}$ training sample.\n",
    "    \n",
    "    \n",
    "- Lowerscript $i$ denotes the $i^{th}$ entry in a vector.\n",
    "    - Example: $a^{[l]}_i$ denotes the $i^{th}$ entry of the activations in  $l^{th}$ fully connected layer.\n",
    "    \n",
    "    \n",
    "- $n_H$, $n_W$ and $n_C$ denotes the height, width and number of channels of a layer, respectively. If you ever want to reference a specific layer $l$, you can write it as: $n_H^{[l]}$, $n_W^{[l]}$, $n_C^{[l]}$. \n",
    "- $n_{H_{prev}}$, $n_{W_{prev}}$ and $n_{C_{prev}}$ denote the height, width and number of channels of the previous layer, respectively. For example, for the layer $l$, those values would be denoted as: $n_H^{[l-1]}$, $n_W^{[l-1]}$, $n_C^{[l-1]}$. \n",
    "\n",
    "Given PA1 and PA2, we assume you're familiar with `numpy`. Let's get started."
   ]
  },
  {
   "cell_type": "markdown",
   "metadata": {},
   "source": [
    "---\n",
    "## 1 - Packages\n",
    "\n",
    "You will need to import the following packages in this assignment: \n",
    "- [`numpy`](www.numpy.org),\n",
    "- [`matplotlib`](http://matplotlib.org),\n",
    "- `np.random.seed(1)` is also used to keep all the random function calls consistent to grade your work."
   ]
  },
  {
   "cell_type": "code",
   "execution_count": 1,
   "metadata": {},
   "outputs": [],
   "source": [
    "import numpy as np\n",
    "import h5py\n",
    "import matplotlib.pyplot as plt\n",
    "\n",
    "%matplotlib inline\n",
    "plt.rcParams['figure.figsize'] = (5.0, 4.0) # set default size of plots\n",
    "plt.rcParams['image.interpolation'] = 'nearest'\n",
    "plt.rcParams['image.cmap'] = 'gray'\n",
    "\n",
    "%load_ext autoreload\n",
    "%autoreload 2\n",
    "\n",
    "np.random.seed(1)"
   ]
  },
  {
   "cell_type": "markdown",
   "metadata": {},
   "source": [
    "---\n",
    "## 2 - Outline of the Assignment\n",
    "\n",
    "You'll be building the core components of a convolutional neural network. Follow the particular instructions given in each exercise.\n",
    "\n",
    "- Convolution functions, including:\n",
    "    - Zero-padding\n",
    "    - Convolution operation (Convolve window)\n",
    "    - Forward convolution \n",
    "    - Backward convolution\n",
    "- Pooling functions, including:\n",
    "    - Pooling forward\n",
    "    - Create mask \n",
    "    - Distribute value\n",
    "    - Pooling backward\n",
    "    \n",
    "For Part 1, you'll implement these functions from scratch, using `numpy`. In Part 2, you'll use the TensorFlow equivalents of these functions to build Convolutional neural network.\n",
    "\n",
    "<div class=\"alert alert-warning\">\n",
    "    <p><strong>Note:</strong> as with neural networks – for every forward function, there is a corresponding backward computation. Because of this, you'll be storing parameters in a cache. During backpropagation, these cached parameters will be used to compute gradients.</p>\n",
    "</div>"
   ]
  },
  {
   "cell_type": "markdown",
   "metadata": {},
   "source": [
    "---\n",
    "## 3 - Convolutional Neural Networks\n",
    "\n",
    "Most deep learning frameworks make convolutions quite easy to use; however, they remain one of the important concepts to understand in Deep Learning. A `conv` layer transforms an input volume into an output volume possibly of a  different size, as we covered in the lecture.\n",
    "\n",
    "In Part 1, you'll build steps of the `conv` layer. First, you'll implement two helper functions:\n",
    "1. `zero_pad`, for zero padding\n",
    "1. `conv_single_step` to compute the actual convolution"
   ]
  },
  {
   "cell_type": "markdown",
   "metadata": {},
   "source": [
    "### 3.1 - Zero-Padding\n",
    "\n",
    "Zero-padding adds zeros around the border of an image.\n",
    "\n",
    "The primary benefits of padding operation are:\n",
    "- it allows a `conv` layer to avoid shrinking the height and width of an input volume.\n",
    "  - An important special case of padding is the \"same\" keyword, where the height/width of the output volume remains the same as the input volume.\n",
    "- it allows a filter (of size greater than 1x1) to be applied on the edge pixels of an image. \n",
    "\n",
    "<div class=\"alert alert-info\"><h1>Exercise 1</h1>\n",
    "    <p> Implement the following function (<code>zero_pad</code>), which pads all the images of a batch of examples X with zeros.</p>\n",
    "</div>\n",
    "\n",
    "Use [`np.pad`][np.pad]. For example, if you want to pad the array $a$ of shape $(5,5,5,5,5)$ with `pad = 1` for the 2nd dimension, `pad = 3` for the 4th dimension and `pad = 0` for the rest, you would use the following:\n",
    "```python\n",
    "a = np.pad(a, ((0,0), (1,1), (0,0), (3,3), (0,0)), 'constant', constant_values = (..,..))\n",
    "```\n",
    "\n",
    "[np.pad]: https://docs.scipy.org/doc/numpy/reference/generated/numpy.pad.html"
   ]
  },
  {
   "cell_type": "code",
   "execution_count": 2,
   "metadata": {
    "collapsed": true
   },
   "outputs": [],
   "source": [
    "# GRADED FUNCTION: zero_pad\n",
    "\n",
    "def zero_pad(X, pad):\n",
    "    \"\"\"\n",
    "    Pad with zeros all images of the dataset X. The padding is applied to the height and width of an image, \n",
    "    as illustrated in Figure 1.\n",
    "    \n",
    "    Argument:\n",
    "    X -- python numpy array of shape (m, n_H, n_W, n_C) representing a batch of m images\n",
    "    pad -- integer, amount of padding around each image on vertical and horizontal dimensions\n",
    "    \n",
    "    Returns:\n",
    "    X_pad -- padded image of shape (m, n_H + 2*pad, n_W + 2*pad, n_C)\n",
    "    \"\"\"\n",
    "    \n",
    "    ### START CODE HERE ### (~1 line)\n",
    "    X_pad = np.pad(X, ((0,0), (pad,pad), (pad,pad), (0,0)), 'constant', constant_values = (0))\n",
    "    ### END CODE HERE ###\n",
    "    \n",
    "    return X_pad"
   ]
  },
  {
   "cell_type": "code",
   "execution_count": 3,
   "metadata": {},
   "outputs": [
    {
     "name": "stdout",
     "output_type": "stream",
     "text": [
      "x.shape = (4, 3, 3, 2)\n",
      "x_pad.shape = (4, 7, 7, 2)\n",
      "x[1, 1] = [[ 0.90085595 -0.68372786]\n",
      " [-0.12289023 -0.93576943]\n",
      " [-0.26788808  0.53035547]]\n",
      "x_pad[1, 1] = [[ 0.  0.]\n",
      " [ 0.  0.]\n",
      " [ 0.  0.]\n",
      " [ 0.  0.]\n",
      " [ 0.  0.]\n",
      " [ 0.  0.]\n",
      " [ 0.  0.]]\n"
     ]
    },
    {
     "data": {
      "text/plain": [
       "<matplotlib.image.AxesImage at 0x25525f59208>"
      ]
     },
     "execution_count": 3,
     "metadata": {},
     "output_type": "execute_result"
    },
    {
     "data": {
      "image/png": "[encoded data removed]",
      "text/plain": [
       "<matplotlib.figure.Figure at 0x25525cccf28>"
      ]
     },
     "metadata": {},
     "output_type": "display_data"
    }
   ],
   "source": [
    "np.random.seed(1)\n",
    "x = np.random.randn(4, 3, 3, 2)\n",
    "x_pad = zero_pad(x, 2)\n",
    "print(\"x.shape =\", x.shape)\n",
    "print(\"x_pad.shape =\", x_pad.shape)\n",
    "print(\"x[1, 1] =\", x[1,1])\n",
    "print(\"x_pad[1, 1] =\", x_pad[1,1])\n",
    "\n",
    "fig, axarr = plt.subplots(1, 2)\n",
    "axarr[0].set_title('x')\n",
    "axarr[0].imshow(x[0,:,:,0])\n",
    "axarr[1].set_title('x_pad')\n",
    "axarr[1].imshow(x_pad[0,:,:,0])"
   ]
  },
  {
   "cell_type": "markdown",
   "metadata": {},
   "source": [
    "**Expected Output**:\n",
    "\n",
    "\n",
    "```python\n",
    "x.shape = (4, 3, 3, 2)\n",
    "x_pad.shape = (4, 7, 7, 2)\n",
    "x[1, 1] = [[ 0.90085595 -0.68372786]\n",
    " [-0.12289023 -0.93576943]\n",
    " [-0.26788808  0.53035547]]\n",
    "x_pad[1, 1] = [[ 0.  0.]\n",
    " [ 0.  0.]\n",
    " [ 0.  0.]\n",
    " [ 0.  0.]\n",
    " [ 0.  0.]\n",
    " [ 0.  0.]\n",
    " [ 0.  0.]]\n",
    "```"
   ]
  },
  {
   "cell_type": "markdown",
   "metadata": {},
   "source": [
    "### 3.2 - Single step of convolution \n",
    "\n",
    "Here, you'll implement the basic convolution operation as a function. You will implement that by applying a filter to a single position of the input – then you will use that function to build a convolutional unit, which:\n",
    "- Takes an input volume \n",
    "- Applies a filter at every position of the input\n",
    "- Outputs another volume (usually of different size)\n",
    "\n",
    "In the first step of the following exercise, you'll implement only the unit convolution operation\n",
    "- this corresponds to applying a filter to just one position and returns a real-valued (scalar) output.\n",
    "\n",
    "Later on, you'll apply this function to multiple positions to create a full convolutional layer.\n",
    "\n",
    "<div class=\"alert alert-info\"><h1>Exercise 2</h1>\n",
    "    <p>Implement <code>conv_single_step</code>. Hint: <a href=\"https://docs.scipy.org/doc/numpy-1.13.0/reference/generated/numpy.sum.html\"><code>np.sum</code></a></p>\n",
    "</div>"
   ]
  },
  {
   "cell_type": "code",
   "execution_count": 4,
   "metadata": {
    "collapsed": true
   },
   "outputs": [],
   "source": [
    "# GRADED FUNCTION: conv_single_step\n",
    "\n",
    "def conv_single_step(a_slice_prev, W, b):\n",
    "    \"\"\"\n",
    "    Apply one filter defined by parameters W on a single slice (a_slice_prev) of the output activation \n",
    "    of the previous layer.\n",
    "    \n",
    "    Arguments:\n",
    "    a_slice_prev -- slice of input data of shape (f, f, n_C_prev)\n",
    "    W -- Weight parameters contained in a window - matrix of shape (f, f, n_C_prev)\n",
    "    b -- Bias parameters contained in a window - matrix of shape (1, 1, 1)\n",
    "    \n",
    "    Returns:\n",
    "    Z -- a scalar value, result of convolving the sliding window (W, b) on a slice x of the input data\n",
    "    \"\"\"\n",
    "\n",
    "    ### START CODE HERE ### (≈ 2 lines of code)\n",
    "    # Element-wise product between a_slice and W. Do not add the bias yet.\n",
    "    s = np.multiply(a_slice_prev,W)\n",
    "    # Sum over all entries of the volume s.\n",
    "    Z = np.sum(s)\n",
    "    # Add bias b to Z. Cast b to a float() so that Z results in a scalar value.\n",
    "    Z = Z+float(b)\n",
    "    ### END CODE HERE ###\n",
    "\n",
    "    return Z"
   ]
  },
  {
   "cell_type": "code",
   "execution_count": 5,
   "metadata": {},
   "outputs": [
    {
     "name": "stdout",
     "output_type": "stream",
     "text": [
      "Z = -6.99908945068\n"
     ]
    }
   ],
   "source": [
    "np.random.seed(1)\n",
    "a_slice_prev = np.random.randn(4, 4, 3)\n",
    "W = np.random.randn(4, 4, 3)\n",
    "b = np.random.randn(1, 1, 1)\n",
    "\n",
    "Z = conv_single_step(a_slice_prev, W, b)\n",
    "print(\"Z =\", Z)"
   ]
  },
  {
   "cell_type": "markdown",
   "metadata": {},
   "source": [
    "**Expected Output**:\n",
    "```python\n",
    "Z = -6.99908945068\n",
    "```"
   ]
  },
  {
   "cell_type": "markdown",
   "metadata": {
    "collapsed": true
   },
   "source": [
    "### 3.3 - Convolutional Neural Networks - Forward computation\n",
    "\n",
    "\n",
    "In the forward computation, you'll take multiple filters and convolve each of them on the input. Convolution with each of those multiple filters will give you a `2D` matrix output; you'll then stack these to have a `3D` output volume.\n",
    "\n",
    "<div class=\"alert alert-info\"><h1>Exercise 3</h1>\n",
    "    <p>Implement the function below to convolte the filter `W` on an input activation `A_prev`.</p>\n",
    "</div>\n",
    "\n",
    "This function takes:\n",
    "- `A_prev` – the activations output by the previous layer (for a batch of `m` inputs). \n",
    "- `F` – filter weights denoted by `W`\n",
    "- `b` – bias vector, where each filter `F` has its own bias (just a single value for each)\n",
    "You'll also have access to a dictionary `dict` of hyperparameters which contains the `stride` and `padding` values.\n",
    "\n",
    "**Hint**: \n",
    "1. To select a 3x3 slice of the upper left corner of `A_prev` (shape: (5, 5, 3)), you would:\n",
    "```python\n",
    "start = 0 # this is the upper-left corner of where you want to start\n",
    "end = 3 # this should be 'start + N'\n",
    "a_slice_prev = A_prev[start:end, start:end, :]\n",
    "```\n",
    "This will be useful for defining `a_slice_prev` below.\n",
    "2. You can define `a_slice` with its corners: `vertical_start`, `vertical_end`, `horiz_start` and `horiz_end`. \n",
    "\n",
    "**Remember**:\n",
    "The formulas to compute the output shape of the convolution is:\n",
    "$$ n_H = \\lfloor \\frac{n_{H_{prev}} - f + 2 \\times pad}{stride} \\rfloor +1 $$\n",
    "$$ n_W = \\lfloor \\frac{n_{W_{prev}} - f + 2 \\times pad}{stride} \\rfloor +1 $$\n",
    "$$ n_C = \\text{number of filters}$$\n",
    "\n",
    "In this exercise, vectorization **is not** necesssary since in the future you will use optimized convolution operations that comes with the standard frameworks (such as tensorflow). We will implement everything with `for`-loops below."
   ]
  },
  {
   "cell_type": "code",
   "execution_count": 10,
   "metadata": {
    "collapsed": true
   },
   "outputs": [],
   "source": [
    "# GRADED FUNCTION: conv_forward\n",
    "\n",
    "def conv_forward(A_prev, W, b, hparameters):\n",
    "    \"\"\"\n",
    "    Implements the forward propagation for a convolution function\n",
    "    \n",
    "    Arguments:\n",
    "    A_prev -- output activations of the previous layer, numpy array of shape (m, n_H_prev, n_W_prev, n_C_prev)\n",
    "    W -- Weights, numpy array of shape (f, f, n_C_prev, n_C)\n",
    "    b -- Biases, numpy array of shape (1, 1, 1, n_C)\n",
    "    hparameters -- python dictionary containing \"stride\" and \"pad\"\n",
    "        \n",
    "    Returns:\n",
    "    Z -- conv output, numpy array of shape (m, n_H, n_W, n_C)\n",
    "    cache -- cache of values needed for the conv_backward() function\n",
    "    \"\"\"\n",
    "    \n",
    "    ### START CODE HERE ###\n",
    "    # Retrieve dimensions from A_prev's shape (≈1 line)  \n",
    "    (m, n_H_prev, n_W_prev, n_C_prev) = A_prev.shape\n",
    "    \n",
    "    # Retrieve dimensions from W's shape (≈1 line)\n",
    "    (f, f, n_C_prev, n_C) = W.shape\n",
    "    \n",
    "    # Retrieve information from \"hparameters\" (≈2 lines)\n",
    "    stride = hparameters['stride']\n",
    "    pad = hparameters['pad']\n",
    "    \n",
    "    # Compute the dimensions of the CONV output volume using the formula given above. Hint: use int() to floor. (≈2 lines)\n",
    "    n_H = int((n_H_prev - f + (2 * pad)) / (stride)) + 1\n",
    "    n_W = int((n_W_prev - f + (2 * pad)) / (stride)) + 1\n",
    "    \n",
    "    # Initialize the output volume Z with zeros. (≈1 line)\n",
    "    Z = np.zeros((m, n_H, n_W, n_C))\n",
    "    \n",
    "    # Create A_prev_pad by padding A_prev\n",
    "    A_prev_pad = zero_pad(A_prev, pad)\n",
    "    \n",
    "    for i in range(m):                                 # loop over the batch of training examples\n",
    "        a_prev_pad = A_prev_pad[i]                     # Select ith training example's padded activation\n",
    "        for h in range(n_H):                           # loop over vertical axis of the output volume\n",
    "            for w in range(n_W):                       # loop over horizontal axis of the output volume\n",
    "                for c in range(n_C):                   # loop over channels (= #filters) of the output volume\n",
    "                    # Find the corners of the current \"slice\" (≈4 lines)\n",
    "                    vertical_start = h * stride\n",
    "                    vertical_end = vertical_start + f\n",
    "                    horizontal_start = w * stride\n",
    "                    horizontal_end = horizontal_start + f\n",
    "                    # Use the corners to define the (3D) slice of a_prev_pad (See Hint above the cell). (≈1 line)\n",
    "                    a_slice_prev = a_prev_pad[vertical_start:vertical_end, horizontal_start:horizontal_end, :]\n",
    "                    # Convolve the (3D) slice with the correct filter W and bias b, to get back one output neuron. (≈1 line)\n",
    "                    Z[i, h, w, c] = conv_single_step(a_slice_prev, W[...,c], b[...,c])\n",
    "                                        \n",
    "    ### END CODE HERE ###\n",
    "\n",
    "    # Making sure your output shape is correct\n",
    "    assert(Z.shape == (m, n_H, n_W, n_C))\n",
    "    \n",
    "    # Save information in \"cache\" for the backprop\n",
    "    cache = (A_prev, W, b, hparameters)\n",
    "    \n",
    "    return Z, cache"
   ]
  },
  {
   "cell_type": "code",
   "execution_count": 11,
   "metadata": {},
   "outputs": [
    {
     "name": "stdout",
     "output_type": "stream",
     "text": [
      "Zs mean = 0.0489952035289\n",
      "Z[3, 2, 1] = [-0.61490741 -6.7439236  -2.55153897  1.75698377  3.56208902  0.53036437\n",
      "  5.18531798  8.75898442]\n",
      "cache_conv[0][1][2][3] = [-0.20075807  0.18656139  0.41005165]\n"
     ]
    }
   ],
   "source": [
    "np.random.seed(1)\n",
    "A_prev = np.random.randn(10,4,4,3)\n",
    "W = np.random.randn(2,2,3,8)\n",
    "b = np.random.randn(1,1,1,8)\n",
    "hparameters = {\"pad\" : 2,\n",
    "               \"stride\": 2}\n",
    "\n",
    "Z, cache_conv = conv_forward(A_prev, W, b, hparameters)\n",
    "print(\"Zs mean =\", np.mean(Z))\n",
    "print(\"Z[3, 2, 1] =\", Z[3,2,1])\n",
    "print(\"cache_conv[0][1][2][3] =\", cache_conv[0][1][2][3])"
   ]
  },
  {
   "cell_type": "markdown",
   "metadata": {},
   "source": [
    "**Expected Output**:\n",
    "```python\n",
    "Zs mean = 0.0489952035289\n",
    "Z[3, 2, 1] = [-0.61490741 -6.7439236  -2.55153897  1.75698377  3.56208902  0.53036437\n",
    "  5.18531798  8.75898442]\n",
    "cache_conv[0][1][2][3] = [-0.20075807  0.18656139  0.41005165]\n",
    "```"
   ]
  },
  {
   "cell_type": "markdown",
   "metadata": {},
   "source": [
    "Reminder: The `conv` layer should also contain an activation function. You can use the following template to implement that.\n",
    "```python\n",
    "# Convolve the window to get back one output neuron\n",
    "Z[i, h, w, c] = ... \n",
    "# Apply activation\n",
    "A[i, h, w, c] = activation(Z[i, h, w, c])\n",
    "```\n",
    "\n",
    "**NOTE:** You don't actually need to implement that here."
   ]
  },
  {
   "cell_type": "markdown",
   "metadata": {},
   "source": [
    "---\n",
    "## 4 - Pooling layer \n",
    "\n",
    "The pooling (`pool`) layer reduces the dimensions along the height and width.\n",
    "1. that helps to reduce computation\n",
    "2. that helps to make feature detectors more invariant to position of input (adds some robustness)\n",
    "\n",
    "Two most common types of `pool` layers:\n",
    "1. `max-pool` (max-pooling layer): slides an ($f, f$) window over the input and stores the max value of the window in the output. (Can also be thought of as `max(x1, x2, ..., xn)`, where `x1, x2, ..., xn` is just flattened matrix.)\n",
    "1. `avg-pool` (average-pooling) layer: slides an ($f, f$) window over the input and stores the average value of the window in the output. (Can also be thought of as `avg(x1, x2, ..., xn)`, where `x1, x2, ..., xn` is just flattened matrix.)\n",
    "\n",
    "Unlike `conv` operation, `pool` layers have **no** parameters to train/update (using backpropagation). However, `pool` does have hyperparemeters relating to window size $f$; this specifies the height and width of the $f \\times f$ window over which the `max`or`avg` is computed.\n",
    "\n",
    "### 4.1 - Forward Pooling\n",
    "Below, you will implement `max-pool` and `avg-pool`, in the same function. \n",
    "\n",
    "<div class=\"alert alert-info\"><h1>Exercise 4</h1>\n",
    "    <p> Implement the forward pass of the pooling layer. See below reminder.</p>\n",
    "</div>\n",
    "\n",
    "**Reminder**:\n",
    "As there's no padding, the formulas binding the output shape of the pooling to the input shape is:\n",
    "$$ n_H = \\lfloor \\frac{n_{H_{prev}} - f}{stride} \\rfloor +1 $$\n",
    "$$ n_W = \\lfloor \\frac{n_{W_{prev}} - f}{stride} \\rfloor +1 $$\n",
    "$$ n_C = n_{C_{prev}}$$"
   ]
  },
  {
   "cell_type": "code",
   "execution_count": 12,
   "metadata": {
    "collapsed": true
   },
   "outputs": [],
   "source": [
    "# GRADED FUNCTION: pool_forward\n",
    "\n",
    "def pool_forward(A_prev, hparameters, mode = \"max\"):\n",
    "    \"\"\"\n",
    "    Implements the forward pass of the pooling layer\n",
    "    \n",
    "    Arguments:\n",
    "    A_prev -- Input data, numpy array of shape (m, n_H_prev, n_W_prev, n_C_prev)\n",
    "    hparameters -- python dictionary containing \"f\" and \"stride\"\n",
    "    mode -- the pooling mode you would like to use, defined as a string (\"max\" or \"average\")\n",
    "    \n",
    "    Returns:\n",
    "    A -- output of the pool layer, a numpy array of shape (m, n_H, n_W, n_C)\n",
    "    cache -- cache used in the backward pass of the pooling layer, contains the input and hparameters \n",
    "    \"\"\"\n",
    "    \n",
    "    # Retrieve dimensions from the input shape\n",
    "    (m, n_H_prev, n_W_prev, n_C_prev) = A_prev.shape\n",
    "    \n",
    "    # Retrieve hyperparameters from \"hparameters\"\n",
    "    f = hparameters[\"f\"]\n",
    "    stride = hparameters[\"stride\"]\n",
    "    \n",
    "    # Define the dimensions of the output\n",
    "    n_H = int(1 + (n_H_prev - f) / (stride))\n",
    "    n_W = int(1 + (n_W_prev - f) / (stride))\n",
    "    n_C = n_C_prev\n",
    "    \n",
    "    # Initialize output matrix A\n",
    "    A = np.zeros((m, n_H, n_W, n_C))              \n",
    "    \n",
    "    ### START CODE HERE ###\n",
    "    for i in range(m):                           # loop over the training examples\n",
    "        for h in range(n_H):                     # loop on the vertical axis of the output volume\n",
    "            for w in range(n_W):                 # loop on the horizontal axis of the output volume\n",
    "                for c in range (n_C):            # loop over the channels of the output volume\n",
    "                    \n",
    "                    # Find the corners of the current \"slice\" (≈4 lines)\n",
    "                    vertical_start = h * stride\n",
    "                    vertical_end = vertical_start + f\n",
    "                    horizontal_start = w * stride\n",
    "                    horizontal_end = horizontal_start + f\n",
    "                    \n",
    "                    # Use the corners to define the current slice on the ith training example of A_prev, channel c. (≈1 line)\n",
    "                    a_prev_slice = A_prev[i, vertical_start:vertical_end, horizontal_start:horizontal_end, c]\n",
    "                    \n",
    "                    # Compute the pooling operation on the slice. Use an if statment to differentiate the modes. Use np.max/np.mean.\n",
    "                    if mode == \"max\":\n",
    "                        A[i, h, w, c] = np.max(a_prev_slice)\n",
    "                    elif mode == \"average\":\n",
    "                        A[i, h, w, c] = np.mean(a_prev_slice)\n",
    "    \n",
    "    ### END CODE HERE ###\n",
    "    \n",
    "    # Store the input and hparameters in \"cache\" for pool_backward()\n",
    "    cache = (A_prev, hparameters)\n",
    "    \n",
    "    # Making sure your output shape is correct\n",
    "    assert(A.shape == (m, n_H, n_W, n_C))\n",
    "    \n",
    "    return A, cache"
   ]
  },
  {
   "cell_type": "code",
   "execution_count": 13,
   "metadata": {},
   "outputs": [
    {
     "name": "stdout",
     "output_type": "stream",
     "text": [
      "mode = max\n",
      "A = [[[[ 1.74481176  0.86540763  1.13376944]]]\n",
      "\n",
      "\n",
      " [[[ 1.13162939  1.51981682  2.18557541]]]]\n",
      "\n",
      "mode = average\n",
      "A = [[[[ 0.02105773 -0.20328806 -0.40389855]]]\n",
      "\n",
      "\n",
      " [[[-0.22154621  0.51716526  0.48155844]]]]\n"
     ]
    }
   ],
   "source": [
    "np.random.seed(1)\n",
    "A_prev = np.random.randn(2, 4, 4, 3)\n",
    "hparameters = {\"stride\" : 2, \"f\": 3}\n",
    "\n",
    "A, cache = pool_forward(A_prev, hparameters)\n",
    "print(\"mode = max\")\n",
    "print(\"A =\", A)\n",
    "print()\n",
    "A, cache = pool_forward(A_prev, hparameters, mode = \"average\")\n",
    "print(\"mode = average\")\n",
    "print(\"A =\", A)"
   ]
  },
  {
   "cell_type": "markdown",
   "metadata": {},
   "source": [
    "**Expected Output:**\n",
    "```python\n",
    "mode = max\n",
    "A = [[[[ 1.74481176  0.86540763  1.13376944]]]\n",
    "[[[ 1.13162939  1.51981682  2.18557541]]]]\n",
    "\n",
    "mode = average\n",
    "A = [[[[ 0.02105773 -0.20328806 -0.40389855]]]\n",
    "[[[-0.22154621  0.51716526  0.48155844]]]]\n",
    "```"
   ]
  },
  {
   "cell_type": "markdown",
   "metadata": {},
   "source": [
    "<div class=\"alert alert-success\">Nicely done! At this point, you've already implemented the forward pass layers of a convolutional network.</div> "
   ]
  },
  {
   "cell_type": "markdown",
   "metadata": {},
   "source": [
    "---\n",
    "## 5 - Backpropagation in convolutional neural networks\n",
    "\n",
    "In the most common deep learning frameworks (PyTorch, TensorFlow, Theano, Torch, etc.), it's uncommon that you'll need to implement the backward pass; however, it's crucial you understand how this works as it will enable you to develop a more holistic understanding of how neural networks work. Something work noting, this section will be fairly complex, but it's important to develop an understanding of how this works. \n",
    "\n",
    "In PA2, you used backpropagation to compute the derivatives with respect to the cost to update parameters. In CNNs, that does not change. However, note that the backprop equations for convolutional layers are somewhat more complicated, and we'll briefly discuss them below.\n",
    "\n",
    "### 5.1 - Convolutional layer backward pass \n",
    "\n",
    "Let's start by implementing the backward pass for a `conv` layer. \n",
    "\n",
    "#### 5.1.1 - Computing `dA`:\n",
    "To compute $dA$, with respect to the cost for a certain filter $W_c$, given a training example:\n",
    "\n",
    "$$ dA += \\sum _{h=0} ^{n_H} \\sum_{w=0} ^{n_W} W_c \\times dZ_{hw} \\tag{1}$$\n",
    "\n",
    "So, let's break this down:\n",
    "- $W_c$ is a filter\n",
    "- $dZ_{hw}$ is a scalar – this corresponds to the gradient of the cost, with respect to the outuput of layer $Z$ at `(row, column) ~ (h, w)`, which in turn corresponds to the dot product taken at the strides `(left, down) ~ (i, j)`\n",
    "- at each inner loop, we multiply $W_c$ by a **different** $dZ$, when updating $dA$\n",
    "  - we do this, because each filter ($W_c$, here we consider weights for each channel seperately) is dotted and summed by a different $a_{slice}$, therefore the backprop for $dA$ is the sum of the gradients of all $a_{slices}$\n",
    "\n",
    "Translated into code... within the appropriate `for`-loops, this formula translates into:\n",
    "```python\n",
    "da_prev_pad[vert_start:vert_end, horiz_start:horiz_end, :] += W[:,:,:,c] * dZ[i, h, w, c]\n",
    "```\n",
    "**Recall** that `:` in `numpy` selects all values in a given axis, so `arr[:, 2]` selects the 3rd item from all rows (effectively selecting the third column).\n",
    "\n",
    "#### 5.1.2 - Computing `dW`:\n",
    "Below, you'll find the formula for computing $dW_c$ with respect to the loss:\n",
    "- $dW_c$ is the derivative of a single filter\n",
    "\n",
    "$$ dW_c  += \\sum _{h=0} ^{n_H} \\sum_{w=0} ^ {n_W} a_{slice} \\times dZ_{hw}  \\tag{2}$$\n",
    "\n",
    "Let's break this down:\n",
    "- $a_{slice}$ is the sliced which was used to generate $Z_{ij}$\n",
    "  - this ends up giving us the gradient for $W$ with respect to the $slice$\n",
    "  - since the filter $W$ is the same all throughout, we juust add up all the gradients to get $dW$\n",
    "\n",
    "In code, inside the appropriate for-loops, this formula translates into:\n",
    "```python\n",
    "dW[:,:,:,c] += a_slice * dZ[i, h, w, c]\n",
    "```\n",
    "\n",
    "#### 5.1.3 - Computing `db`:\n",
    "The following formula is used to compute $db$ with respect to the cost of a certain filter, $W_c$:\n",
    "$$ db = \\sum_h \\sum_w dZ_{hw} \\tag{3}$$\n",
    "\n",
    "As you've seen in neural networks, $db$ is computer by summing $dZ$; in this case, you're just summing over all the gradients of the `conv` output ($Z$) with respect to the cost.\n",
    "\n",
    "As code, this formula translates into: (within the appropriate `for`-loops, of course)\n",
    "```python\n",
    "db[:,:,:,c] += dZ[i, h, w, c]\n",
    "```\n",
    "\n",
    "<div class=\"alert alert-info\"><h1>Exercise 5</h1>\n",
    "    <p> Implement <code>conv_backward</code>, below. Be sure to sum over all the training examples, filters, heights, and widths. Then, you should compute the derivatives using the formulas (1, 2, 3) outlined above.</p>\n",
    "</div>"
   ]
  },
  {
   "cell_type": "code",
   "execution_count": 14,
   "metadata": {
    "collapsed": true
   },
   "outputs": [],
   "source": [
    "def conv_backward(dZ, cache):\n",
    "    \"\"\"\n",
    "    Implement the backward propagation for a convolution function\n",
    "    \n",
    "    Arguments:\n",
    "    dZ -- gradient of the cost with respect to the output of the conv layer (Z), numpy array of shape (m, n_H, n_W, n_C)\n",
    "    cache -- cache of values needed for the conv_backward(), output of conv_forward()\n",
    "    \n",
    "    Returns:\n",
    "    dA_prev -- gradient of the cost with respect to the input of the conv layer (A_prev),\n",
    "               numpy array of shape (m, n_H_prev, n_W_prev, n_C_prev)\n",
    "    dW -- gradient of the cost with respect to the weights of the conv layer (W)\n",
    "          numpy array of shape (f, f, n_C_prev, n_C)\n",
    "    db -- gradient of the cost with respect to the biases of the conv layer (b)\n",
    "          numpy array of shape (1, 1, 1, n_C)\n",
    "    \"\"\"\n",
    "    \n",
    "    ### START CODE HERE ###\n",
    "    # Retrieve information from \"cache\"\n",
    "    (A_prev, W, b, hparameters) = cache\n",
    "    \n",
    "    # Retrieve dimensions from A_prev's shape\n",
    "    (m, n_H_prev, n_W_prev, n_C_prev) = A_prev.shape\n",
    "    \n",
    "    # Retrieve dimensions from W's shape\n",
    "    (f, f, n_C_prev, n_C) = W.shape\n",
    "    \n",
    "    # Retrieve information from \"hparameters\"\n",
    "    stride = hparameters[\"stride\"]\n",
    "    pad = hparameters[\"pad\"]\n",
    "    \n",
    "    # Retrieve dimensions from dZ's shape\n",
    "    (m, n_H, n_W, n_C) = dZ.shape\n",
    "    \n",
    "    # Initialize dA_prev, dW, db with the correct shapes\n",
    "    dA_prev = np.zeros((m, n_H_prev, n_W_prev, n_C_prev))                           \n",
    "    dW = np.zeros((f, f, n_C_prev, n_C))\n",
    "    db = np.zeros((1, 1, 1, n_C))\n",
    "\n",
    "    # Pad A_prev and dA_prev\n",
    "    A_prev_pad = zero_pad(A_prev, pad)\n",
    "    dA_prev_pad = zero_pad(dA_prev, pad)\n",
    "    \n",
    "    for i in range(m):                       # loop over the training examples\n",
    "        \n",
    "        # select ith training example from A_prev_pad and dA_prev_pad\n",
    "        a_prev_pad = A_prev_pad[i]\n",
    "        da_prev_pad = dA_prev_pad[i]\n",
    "        \n",
    "        for h in range(n_H):                   # loop over vertical axis of the output volume\n",
    "            for w in range(n_W):               # loop over horizontal axis of the output volume\n",
    "                for c in range(n_C):           # loop over the channels of the output volume\n",
    "                    \n",
    "                    # Find the corners of the current \"slice\"\n",
    "                    vertical_start = h * stride\n",
    "\n",
    "                    vertical_end = vertical_start + f\n",
    "                    horizontal_start = w * stride\n",
    "\n",
    "                    horizontal_end = horizontal_start + f\n",
    "                    \n",
    "                    # Use the corners to define the slice from a_prev_pad\n",
    "                    a_slice = a_prev_pad[vertical_start:vertical_end, horizontal_start:horizontal_end, :]\n",
    "\n",
    "                    # Update gradients for the window and the filter's parameters using the code formulas given above\n",
    "                    da_prev_pad[vertical_start:vertical_end, horizontal_start:horizontal_end, :] += W[:,:,:,c] * dZ[i, h, w, c]\n",
    "                    dW[:,:,:,c] += a_slice * dZ[i, h, w, c]\n",
    "                    db[:,:,:,c] += dZ[i, h, w, c]\n",
    "                    \n",
    "        # Set the ith training example's dA_prev to the unpaded da_prev_pad (Hint: use X[pad:-pad, pad:-pad, :])\n",
    "        dA_prev[i, :, :, :] = da_prev_pad[pad:-pad, pad:-pad, :]\n",
    "    ### END CODE HERE ###\n",
    "    \n",
    "    # Making sure your output shape is correct\n",
    "    assert(dA_prev.shape == (m, n_H_prev, n_W_prev, n_C_prev))\n",
    "    \n",
    "    return dA_prev, dW, db"
   ]
  },
  {
   "cell_type": "code",
   "execution_count": 15,
   "metadata": {
    "scrolled": true
   },
   "outputs": [
    {
     "name": "stdout",
     "output_type": "stream",
     "text": [
      "dA_mean = 1.45243777754\n",
      "dW_mean = 1.72699145831\n",
      "db_mean = 7.83923256462\n"
     ]
    }
   ],
   "source": [
    "np.random.seed(1)\n",
    "dA, dW, db = conv_backward(Z, cache_conv)\n",
    "print(\"dA_mean =\", np.mean(dA))\n",
    "print(\"dW_mean =\", np.mean(dW))\n",
    "print(\"db_mean =\", np.mean(db))"
   ]
  },
  {
   "cell_type": "markdown",
   "metadata": {},
   "source": [
    "**Expected Output:**\n",
    "```python\n",
    "dA_mean = 1.45243777754\n",
    "dW_mean = 1.72699145831\n",
    "db_mean = 7.83923256462\n",
    "```"
   ]
  },
  {
   "cell_type": "markdown",
   "metadata": {},
   "source": [
    "## 5.2 Pooling layer - backward pass\n",
    "\n",
    "Now, let's implement the backward pass for the pooling layer. We will start with the `max-pool` layer. Even though a pooling layer has no parameters for backprop to update, it's necessary to propagate the gradient back through the pooling layer in order to compute the gradients for layers which came before it.\n",
    "\n",
    "### 5.2.1 Max pooling - backward pass  \n",
    "\n",
    "First, though, let's create a helper function`create_mask_from_window()` which will do the following:\n",
    "\n",
    "$$ X = \\begin{bmatrix}\n",
    "1 && 3 \\\\\n",
    "4 && 1\n",
    "\\end{bmatrix} \\quad \\rightarrow  \\quad M =\\begin{bmatrix}\n",
    "0 && 0 \\\\\n",
    "1 && 0\n",
    "\\end{bmatrix}\\tag{4}$$\n",
    "\n",
    "This function creates a \"mask\" matrix – this \"mask\" matrix keeps track of where the maximum of the matrix is. `True` (1) indicates the position of the maximum in `X`, while the other entries are `False` (0). The backward pass for `avg-pool` does something very similar, but uses a different mask.\n",
    "\n",
    "<div class=\"alert alert-info\"><h1>Exercise 6</h1>\n",
    "    <p> Implement <code>create_mask_from_window</code>. This function will be helpful for pooling backward. </p>\n",
    "</div>\n",
    "\n",
    "Hints:\n",
    "- [`np.max()`][np.max] can be used here. \n",
    "- For a matrix `X` and a scalar `x`, the command: `A = (X == x)` will return a matrix `A` (of the same size as `X`) such that:\n",
    "```python\n",
    "A[i, j] = (X[i, j] == x) # if the matrix element equals the lookup, return True, otherwise False\n",
    "```\n",
    "- Here, you don't need to consider cases where there might be several maxima in a matrix.\n",
    "\n",
    "[np.max]: https://docs.scipy.org/doc/numpy/reference/generated/numpy.ndarray.max.html"
   ]
  },
  {
   "cell_type": "code",
   "execution_count": 16,
   "metadata": {
    "collapsed": true
   },
   "outputs": [],
   "source": [
    "def create_mask_from_window(x):\n",
    "    \"\"\"\n",
    "    Creates a mask from an input matrix x, to identify the max entry of x.\n",
    "    \n",
    "    Arguments:\n",
    "    x -- Array of shape (f, f)\n",
    "    \n",
    "    Returns:\n",
    "    mask -- Array of the same shape as window, contains a True at the position corresponding to the max entry of x.\n",
    "    \"\"\"\n",
    "    \n",
    "    ### START CODE HERE ### (≈1 line)\n",
    "    mask = x == np.max(x)\n",
    "    ### END CODE HERE ###\n",
    "    \n",
    "    return mask"
   ]
  },
  {
   "cell_type": "code",
   "execution_count": 17,
   "metadata": {
    "scrolled": true
   },
   "outputs": [
    {
     "name": "stdout",
     "output_type": "stream",
     "text": [
      "x =  [[ 1.62434536 -0.61175641 -0.52817175]\n",
      " [-1.07296862  0.86540763 -2.3015387 ]]\n",
      "mask =  [[ True False False]\n",
      " [False False False]]\n"
     ]
    }
   ],
   "source": [
    "np.random.seed(1)\n",
    "x = np.random.randn(2,3)\n",
    "mask = create_mask_from_window(x)\n",
    "print('x = ', x)\n",
    "print(\"mask = \", mask)"
   ]
  },
  {
   "cell_type": "markdown",
   "metadata": {
    "collapsed": true
   },
   "source": [
    "**Expected Output:** \n",
    "```python\n",
    "x = [[ 1.62434536 -0.61175641 -0.52817175]\n",
    "[-1.07296862  0.86540763 -2.3015387 ]]\n",
    "\n",
    "mask = [[ True False False]\n",
    "[False False False]]\n",
    "```"
   ]
  },
  {
   "cell_type": "markdown",
   "metadata": {},
   "source": [
    "**Why do we care about the position of the max?**\n",
    "\n",
    "Well, that's because it's the input value which influenced the output, therefore it took part in generating the cost. Backprop computes gradients with respect to the cost, so anything that influences the ultimate cost should have a non-zero gradient. Because of this, backprop will \"propagate\" the gradient back to this particular input value which influenced the cost."
   ]
  },
  {
   "cell_type": "markdown",
   "metadata": {},
   "source": [
    "### 5.2.2 - Average pooling - backward pass \n",
    "\n",
    "`avg-pool` differs from `max-pool` in that every element of the input window has equal influence on the output. This makes computations simpler when implementing backprop (as you can see below). You will implement that as a helper function next.\n",
    "\n",
    "As an example, if we did an `avg-pool` using a `2x2` filters, then the mask for the backward pass will look like:\n",
    "$$ dZ = 1 \\quad \\rightarrow  \\quad dZ =\\begin{bmatrix}\n",
    "1/4 && 1/4 \\\\\n",
    "1/4 && 1/4\n",
    "\\end{bmatrix}\\tag{5} $$\n",
    "\n",
    "which means that each position in the $dZ$ matrix equally contributes to the output in terms of the error. (This is because we took an unweighted average in the forward pass.)\n",
    "\n",
    "<div class=\"alert alert-info\"><h1>Exercise 7</h1>\n",
    "    <p> Implement the function below to equally distribute a value $dz$ throughout a given matrix. <a href=\"https://docs.scipy.org/doc/numpy-1.13.0/reference/generated/numpy.ones.html\">Hint</a></p>\n",
    "</div>"
   ]
  },
  {
   "cell_type": "code",
   "execution_count": 18,
   "metadata": {
    "collapsed": true
   },
   "outputs": [],
   "source": [
    "def distribute_value(dz, shape):\n",
    "    \"\"\"\n",
    "    Distributes the input value in the matrix of dimension shape\n",
    "    \n",
    "    Arguments:\n",
    "    dz -- input scalar\n",
    "    shape -- the shape (n_H, n_W) of the output matrix for which we want to distribute the value of dz\n",
    "    \n",
    "    Returns:\n",
    "    a -- Array of size (n_H, n_W) for which we distributed the value of dz\n",
    "    \"\"\"\n",
    "    \n",
    "    ### START CODE HERE ###\n",
    "    # Retrieve dimensions from shape (≈1 line)\n",
    "    (n_H, n_W) = shape\n",
    "    \n",
    "    # Compute the value to distribute on the matrix (≈1 line)\n",
    "    average = (dz) / (n_H * n_W)\n",
    "    \n",
    "    # Create a matrix where every entry is the \"average\" value (≈1 line)\n",
    "    a = np.ones(shape) * (average)\n",
    "    ### END CODE HERE ###\n",
    "    \n",
    "    return a"
   ]
  },
  {
   "cell_type": "code",
   "execution_count": 19,
   "metadata": {},
   "outputs": [
    {
     "name": "stdout",
     "output_type": "stream",
     "text": [
      "distributed value = [[ 0.5  0.5]\n",
      " [ 0.5  0.5]]\n"
     ]
    }
   ],
   "source": [
    "a = distribute_value(2, (2,2))\n",
    "print('distributed value =', a)"
   ]
  },
  {
   "cell_type": "markdown",
   "metadata": {},
   "source": [
    "**Expected Output**: \n",
    "```python\n",
    "distributed_value = [[ 0.5  0.5]\n",
    "[ 0.5  0.5]]\n",
    "```"
   ]
  },
  {
   "cell_type": "markdown",
   "metadata": {},
   "source": [
    "### 5.2.3 Putting it together: Pooling backward \n",
    "\n",
    "Now you are ready to compute the backward propagation on a pooling layer! \n",
    "\n",
    "<div class=\"alert alert-info\"><h1>Exercise 8</h1>\n",
    "    <p> Implement <code>pool_backward</code> in both modes (<code>\"max\"</code> and <code>\"average\"</code>).</p>\n",
    "</div>\n",
    "\n",
    "- To do this, you'll need 4 `for`-loops (iterate them over training examples, height, width, and channels)\n",
    "- Use an `if/elif` statement to check which mode to use (`\"max\"` or `\"average\"` mode). \n",
    "  - If `mode == \"average\"`, use `distribute_value()` to create a matrix with a shape `a_slice.shape`\n",
    "  - If `mode == \"max\"`, you should create a mask with `create_mask_from_window()` and use it to extract the corresponding value from $dZ$."
   ]
  },
  {
   "cell_type": "code",
   "execution_count": 20,
   "metadata": {
    "collapsed": true
   },
   "outputs": [],
   "source": [
    "def pool_backward(dA, cache, mode = \"max\"):\n",
    "    \"\"\"\n",
    "    Implements the backward pass of the pooling layer\n",
    "    \n",
    "    Arguments:\n",
    "    dA -- gradient of cost with respect to the output of the pooling layer, same shape as A\n",
    "    cache -- cache output from the forward pass of the pooling layer, contains the layer's input and hparameters \n",
    "    mode -- the pooling mode you would like to use, defined as a string (\"max\" or \"average\")\n",
    "    \n",
    "    Returns:\n",
    "    dA_prev -- gradient of cost with respect to the input of the pooling layer, same shape as A_prev\n",
    "    \"\"\"\n",
    "    \n",
    "    ### START CODE HERE ###\n",
    "    \n",
    "    # Retrieve information from cache (≈1 line)\n",
    "    (A_prev, hparameters) = cache\n",
    "    \n",
    "    # Retrieve hyperparameters from \"hparameters\" (≈2 lines)\n",
    "    stride = hparameters[\"stride\"]\n",
    "    f = hparameters[\"f\"]\n",
    "    \n",
    "    # Retrieve dimensions from A_prev's shape and dA's shape (≈2 lines)\n",
    "    m, n_H_prev, n_W_prev, n_C_prev = A_prev.shape\n",
    "    m, n_H, n_W, n_C = dA.shape\n",
    "    \n",
    "    # Initialize dA_prev with zeros (≈1 line)\n",
    "    dA_prev = np.zeros(A_prev.shape)\n",
    "    \n",
    "    for i in range(m):                       # loop over the training examples\n",
    "        # select training example from A_prev (≈1 line)\n",
    "        a_prev = A_prev[i]\n",
    "        for h in range(n_H):                   # loop on the vertical axis\n",
    "            for w in range(n_W):               # loop on the horizontal axis\n",
    "                for c in range(n_C):           # loop over the channels (depth)\n",
    "                    # Find the corners of the current \"slice\" (≈4 lines)\n",
    "                    vertical_start = h\n",
    "                    vertical_end = vertical_start + f\n",
    "                    horizontal_start = w\n",
    "                    horizontal_end = horizontal_start + f\n",
    "                    \n",
    "                    # Compute the backward propagation in both modes.\n",
    "                    if mode == \"max\":\n",
    "                        # Use the corners and \"c\" to define the current slice from a_prev (≈1 line)\n",
    "                        a_prev_slice = a_prev[vertical_start:vertical_end, horizontal_start:horizontal_end, c]\n",
    "                        # Create the mask from a_prev_slice (≈1 line)\n",
    "                        mask = create_mask_from_window(a_prev_slice)\n",
    "                        # Set dA_prev to be dA_prev + (the mask multiplied by the correct entry of dA) (≈1 line)\n",
    "                        dA_prev[i, vertical_start:vertical_end, horizontal_start:horizontal_end, c] += np.multiply(mask, dA[i, h, w, c])\n",
    "                        \n",
    "                    elif mode == \"average\":\n",
    "                        # Get the value a from dA (≈1 line)\n",
    "                        da = dA[i, h, w, c]\n",
    "                        # Define the shape of the filter as fxf (≈1 line)\n",
    "                        shape = (f, f)\n",
    "                        # Distribute it to get the correct slice of dA_prev. i.e. Add the distributed value of da. (≈1 line)\n",
    "                        dA_prev[i, vertical_start:vertical_end, horizontal_start:horizontal_end, c] += distribute_value(da, shape)\n",
    "                        \n",
    "    ### END CODE ###\n",
    "    \n",
    "    # Making sure your output shape is correct\n",
    "    assert(dA_prev.shape == A_prev.shape)\n",
    "    \n",
    "    return dA_prev"
   ]
  },
  {
   "cell_type": "code",
   "execution_count": 21,
   "metadata": {},
   "outputs": [
    {
     "name": "stdout",
     "output_type": "stream",
     "text": [
      "mode = max\n",
      "mean of dA = 0.145713902729\n",
      "dA_prev[1, 1] = [[ 0.          0.        ]\n",
      " [ 5.05844394 -1.68282702]\n",
      " [ 0.          0.        ]]\n",
      "\n",
      "mode = average\n",
      "mean of dA = 0.145713902729\n",
      "dA_prev[1, 1] = [[ 0.08485462  0.2787552 ]\n",
      " [ 1.26461098 -0.25749373]\n",
      " [ 1.17975636 -0.53624893]]\n"
     ]
    }
   ],
   "source": [
    "np.random.seed(1)\n",
    "A_prev = np.random.randn(5, 5, 3, 2)\n",
    "hparameters = {\"stride\" : 1, \"f\": 2}\n",
    "A, cache = pool_forward(A_prev, hparameters)\n",
    "dA = np.random.randn(5, 4, 2, 2)\n",
    "\n",
    "dA_prev = pool_backward(dA, cache, mode = \"max\")\n",
    "print(\"mode = max\")\n",
    "print('mean of dA =', np.mean(dA))\n",
    "print('dA_prev[1, 1] =', dA_prev[1,1])  \n",
    "print()\n",
    "dA_prev = pool_backward(dA, cache, mode = \"average\")\n",
    "print(\"mode = average\")\n",
    "print('mean of dA =', np.mean(dA))\n",
    "print('dA_prev[1, 1] =', dA_prev[1,1]) "
   ]
  },
  {
   "cell_type": "markdown",
   "metadata": {},
   "source": [
    "**Expected Output**: \n",
    "\n",
    "```python\n",
    "mode = max:\n",
    "mean of dA = 0.145713902729\n",
    "dA_prev[1, 1] = [[ 0.          0.        ] \n",
    "[ 5.05844394 -1.68282702] \n",
    "[ 0.          0.        ]]\n",
    "\n",
    "mode = average:\n",
    "mean of dA = 0.145713902729\n",
    "dA_prev[1, 1] = [[ 0.08485462  0.2787552 ]\n",
    "[ 1.26461098 -0.25749373]\n",
    "[ 1.17975636 -0.53624893]]\n",
    "```"
   ]
  },
  {
   "cell_type": "markdown",
   "metadata": {},
   "source": [
    "<div class=\"alert alert-success\">Nice job completing this assignment! You should now understand how convolutional neural networks work as you've now implemented all the building blocks of CNNs. In the next assignment you'll do the same, but using TensorFlow."
   ]
  },
  {
   "cell_type": "code",
   "execution_count": null,
   "metadata": {
    "collapsed": true
   },
   "outputs": [],
   "source": []
  }
 ],
 "metadata": {
  "coursera": {
   "course_slug": "convolutional-neural-networks",
   "graded_item_id": "qO8ng",
   "launcher_item_id": "7XDi8"
  },
  "kernelspec": {
   "display_name": "Python 3",
   "language": "python",
   "name": "python3"
  },
  "language_info": {
   "codemirror_mode": {
    "name": "ipython",
    "version": 3
   },
   "file_extension": ".py",
   "mimetype": "text/x-python",
   "name": "python",
   "nbconvert_exporter": "python",
   "pygments_lexer": "ipython3",
   "version": "3.6.3"
  }
 },
 "nbformat": 4,
 "nbformat_minor": 1
}
